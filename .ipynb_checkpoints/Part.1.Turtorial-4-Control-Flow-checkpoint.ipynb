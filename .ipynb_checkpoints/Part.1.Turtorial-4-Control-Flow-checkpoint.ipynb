{
 "cells": [
  {
   "cell_type": "markdown",
   "id": "330b56c6-f238-4877-9e53-5e1b3c01d705",
   "metadata": {},
   "source": [
    "# 4. More Control Flow Tools"
   ]
  },
  {
   "cell_type": "markdown",
   "id": "f031e27c-d6a1-4f45-9fff-951aa21f9a39",
   "metadata": {
    "jp-MarkdownHeadingCollapsed": true
   },
   "source": [
    "## 4.3 The `range()` function"
   ]
  },
  {
   "cell_type": "markdown",
   "id": "c5de1332-86c1-491d-a65a-ecdb8e2b933f",
   "metadata": {},
   "source": [
    "A strange thing happens if you just print a range:"
   ]
  },
  {
   "cell_type": "code",
   "execution_count": 5,
   "id": "119ae0c8-aa8e-4551-84f0-285401d6b4d7",
   "metadata": {},
   "outputs": [
    {
     "name": "stdout",
     "output_type": "stream",
     "text": [
      "range(0, 10)\n"
     ]
    },
    {
     "data": {
      "text/plain": [
       "8217"
      ]
     },
     "execution_count": 5,
     "metadata": {},
     "output_type": "execute_result"
    }
   ],
   "source": [
    "print(range(10))"
   ]
  },
  {
   "cell_type": "markdown",
   "id": "3ae1a66f-6366-40d6-9478-5f91df0aad6a",
   "metadata": {},
   "source": [
    "In many ways the object returned by `range()` behaves as if it is a list, but in fact it isn’t. It is an object which returns the successive items of the desired sequence when you iterate over it, but it doesn’t really make the list, thus saving space.  \n",
    "\n",
    "We say such an object is iterable, that is, suitable as a target for functions and constructs that expect something from which they can obtain items until the supply is exhausted. We have seen that the `for` statement is such a construct, which an example of a function that takes an iterable is `sum()`:"
   ]
  },
  {
   "cell_type": "code",
   "execution_count": 6,
   "id": "30889253-4986-432a-9a32-a5a410f5f8ab",
   "metadata": {},
   "outputs": [
    {
     "data": {
      "text/plain": [
       "45"
      ]
     },
     "execution_count": 6,
     "metadata": {},
     "output_type": "execute_result"
    }
   ],
   "source": [
    "sum(range(10))"
   ]
  },
  {
   "cell_type": "markdown",
   "id": "a02dc76f-7c16-4f97-85df-292a8ddc145a",
   "metadata": {},
   "source": [
    "## 4.4 else clauses on loops"
   ]
  },
  {
   "cell_type": "markdown",
   "id": "ffda3b3c-9819-473a-9d37-46c20e880148",
   "metadata": {},
   "source": [
    "A `for` or `while` can include an `else` clause.  \n",
    "\n",
    "- In a `for` loop, else clause is executed after the loop it's final iteration.\n",
    "- In a `while` loop, it's executed after the loop's condition becomes false.\n",
    "\n",
    "In either kind of loop, the `else` clause is not executed if the loop is terminated by a `break`.\n"
   ]
  },
  {
   "cell_type": "code",
   "execution_count": null,
   "id": "980901bc-b850-48ff-96a9-5c8acdafb0d3",
   "metadata": {},
   "outputs": [],
   "source": [
    "# This is examplified in the following for loop, which searches for prime numbers\n",
    "for n in range(2, 10):\n",
    "    for x in range(2, n):\n",
    "        if n % x == 0:\n",
    "            print(n, 'equals', x, '*', n//x)\n",
    "            break\n",
    "    else:\n",
    "        # loop fell through without finding a factor\n",
    "        print(n, 'is a prime number')"
   ]
  },
  {
   "cell_type": "markdown",
   "id": "886ec491-d3f3-44d6-9277-4ba53a1343ac",
   "metadata": {},
   "source": [
    "## 4.6. `match` Statements"
   ]
  },
  {
   "cell_type": "markdown",
   "id": "4f6e9483-12a1-470d-8364-1e6144aacbf0",
   "metadata": {},
   "source": [
    "> Understanding how sequence patterns <strong style='color: green'>capture data</strong> involves the key aspects of <strong style='color: green'>attribute unpacking</strong> and <strong style='color: green'>variable binding</strong>."
   ]
  },
  {
   "cell_type": "code",
   "execution_count": 8,
   "id": "5b9fdbf6-c5ed-431a-abad-2d0b23272925",
   "metadata": {},
   "outputs": [],
   "source": [
    "def http_error(status):\n",
    "    match status:\n",
    "        case 200:\n",
    "            return \"Good request\"\n",
    "        case 400 | 404 | 418:\n",
    "            return \"Bad request\"\n",
    "        case _:\n",
    "            return \"Something's wrong with the internet\""
   ]
  },
  {
   "cell_type": "markdown",
   "id": "67c17c5f-f6fe-4447-9447-f314205aeedb",
   "metadata": {},
   "source": [
    "Patterns can look like unpacking assignments, and can be used to ***bind variables***:"
   ]
  },
  {
   "cell_type": "code",
   "execution_count": 13,
   "id": "452819ea-baac-4aa1-b86f-0eab05a6445a",
   "metadata": {},
   "outputs": [
    {
     "name": "stdout",
     "output_type": "stream",
     "text": [
      "Y=2\n"
     ]
    }
   ],
   "source": [
    "# point is an (x, y) tuple\n",
    "point = (0, 2)\n",
    "\n",
    "match point:\n",
    "    case (0, 0):\n",
    "        print(\"Origin\")\n",
    "    case (0, y):\n",
    "        print(f\"Y={y}\")\n",
    "    case (x, 0):\n",
    "        print(f\"X={x}\")\n",
    "    case (x, y):\n",
    "        print(f\"X={x}, Y={y}\")\n",
    "    case _:\n",
    "        raise ValueError(\"Not a point\")"
   ]
  },
  {
   "cell_type": "markdown",
   "id": "8efd2700-2628-4f59-9616-677aed489032",
   "metadata": {},
   "source": [
    "If you are using classes to structure your data, you can use the class name followed by an argument list resembing a constructor, but with the ability to ***capture attributes into variables***:"
   ]
  },
  {
   "cell_type": "code",
   "execution_count": 1,
   "id": "d2e08ceb-fa75-4d10-a1d3-d96d798bbd75",
   "metadata": {},
   "outputs": [
    {
     "name": "stdout",
     "output_type": "stream",
     "text": [
      "x=2, y=1\n"
     ]
    }
   ],
   "source": [
    "class Point: \n",
    "    def __init__(self, x, y):\n",
    "        self.x = x\n",
    "        self.y = y\n",
    "\n",
    "def where_is(point):\n",
    "    match point:\n",
    "        case Point(x=0, y=0):\n",
    "            print('Origin')\n",
    "        case Point(x=0, y=y):\n",
    "            print(f'y={y}')\n",
    "        case Point(x=x, y=0):\n",
    "            print(f'x={x}')\n",
    "        case Point(y=y,x=x):\n",
    "            print(f'x={x}, y={y}')\n",
    "        case _:\n",
    "            print('Not a point')\n",
    "\n",
    "where_is(Point(y=1,x=2))"
   ]
  },
  {
   "cell_type": "markdown",
   "id": "b038483d-b4e6-4baf-b13d-6682666cf25b",
   "metadata": {},
   "source": [
    "You can also ***define a specific position*** for attributes in patterns by setting the `__match_args__` special attribute in your class."
   ]
  },
  {
   "cell_type": "code",
   "execution_count": 9,
   "id": "c9d074ec-63f8-42f4-aea0-670bbeb12127",
   "metadata": {},
   "outputs": [
    {
     "name": "stdout",
     "output_type": "stream",
     "text": [
      "Origin\n",
      "x=1, y=1\n",
      "Origin\n",
      "x=1, y=2\n"
     ]
    }
   ],
   "source": [
    "class Point:\n",
    "    __match_args__ = ('y', 'x')\n",
    "    def __init__(self, x, y):\n",
    "        self.x = x\n",
    "        self.y = y\n",
    "\n",
    "def where_is(point):\n",
    "    match point:\n",
    "        case Point(1, 2):\n",
    "            print('Origin')\n",
    "        case Point(x=0, y=y):\n",
    "            print(f'y={y}')\n",
    "        case Point(x=x, y=0):\n",
    "            print(f'x={x}')\n",
    "        case Point(y=y,x=x):\n",
    "            print(f'x={x}, y={y}')\n",
    "        case _:\n",
    "            print('Not a point')\n",
    "\n",
    "where_is(Point(2,1))\n",
    "where_is(Point(1,1))\n",
    "where_is(Point(y=1,x=2))\n",
    "where_is(Point(x=1,y=2))"
   ]
  },
  {
   "cell_type": "markdown",
   "id": "7a07e7e0-3712-4e14-8298-572660ed0061",
   "metadata": {},
   "source": [
    "We can add `if` clause to a pattern, known as a \"guard\". If the guard is false, `match` goes on to try the next case block. Note that value capture happens before the guard is evaluated:"
   ]
  },
  {
   "cell_type": "code",
   "execution_count": null,
   "id": "501b8d77-7ca9-4332-ba12-5dad4d6c4234",
   "metadata": {},
   "outputs": [],
   "source": [
    "match point:\n",
    "    case Point(x, y) if x == y:\n",
    "        print(f'y=x at {x}')\n",
    "    case point(x, y):\n",
    "        print(f'Not equals')"
   ]
  },
  {
   "cell_type": "markdown",
   "id": "69065818-383f-4422-a2d9-0b8792561d52",
   "metadata": {},
   "source": [
    "Sequence patterns support extended unpacking: `[x, y, *rest]` and `(x, y, *rest)` work similar to unpacking assignments. The name after `*` may also be `_`, so `[x, y, *_]` matches a sequence of at least two items without binding the remaining items."
   ]
  },
  {
   "cell_type": "markdown",
   "id": "2fcaa1f4-bb03-4e03-91bf-c284e4312fe9",
   "metadata": {},
   "source": [
    "## 4.8.3 Special parameters"
   ]
  },
  {
   "cell_type": "markdown",
   "id": "66515707-0100-4f54-988a-baa16655eab3",
   "metadata": {},
   "source": [
    "A function definition may look like:"
   ]
  },
  {
   "cell_type": "code",
   "execution_count": null,
   "id": "a7d13bab-83f6-4967-a108-788a475ef807",
   "metadata": {},
   "outputs": [],
   "source": [
    "def f(pos1, pos2, /, pos_or_kwd, *, kwd1, kwd2):\n",
    "      -----------    ----------     ----------\n",
    "        |             |                  |\n",
    "        |        Positional or keyword   |\n",
    "        |                                - Keyword only\n",
    "         -- Positional only"
   ]
  },
  {
   "cell_type": "markdown",
   "id": "9b03e975-bbf3-4d60-9498-493207caeb52",
   "metadata": {},
   "source": [
    "### Positional-Only parameter\n",
    "\n",
    "where `/` and `*` are optional. If used, these symbols indicate the kind of parameter by how the arguments may be passed to the function: posional-only, posional-or-keyword, keyword-only.\n",
    "\n",
    "And if `/` and `*` are not present int the function definition, arguments may be passed to a function by position or keyword.\n",
    "\n",
    "Positional-Only parameters are placed before a `/`(forward-slash), positional-only ***parameters' order matters***, and the parameters can not passed by keyword. The `/`(forward-slash) is used to logically to separate the positional-only parameters from the rest of the parameters. If there is no `/` in the function definition, there is no positional-only parameters.\n",
    "\n",
    "Parameters following the `/` may be positional-or-keyword or keyword-only."
   ]
  },
  {
   "cell_type": "code",
   "execution_count": 10,
   "id": "78088863-1b6f-4b3b-a039-5e1d1caa4810",
   "metadata": {},
   "outputs": [
    {
     "name": "stdout",
     "output_type": "stream",
     "text": [
      "1\n"
     ]
    },
    {
     "ename": "TypeError",
     "evalue": "pos_only_arg() got some positional-only arguments passed as keyword arguments: 'arg'",
     "output_type": "error",
     "traceback": [
      "\u001b[0;31m---------------------------------------------------------------------------\u001b[0m",
      "\u001b[0;31mTypeError\u001b[0m                                 Traceback (most recent call last)",
      "Cell \u001b[0;32mIn[10], line 5\u001b[0m\n\u001b[1;32m      2\u001b[0m     \u001b[38;5;28mprint\u001b[39m(arg)\n\u001b[1;32m      4\u001b[0m pos_only_arg(\u001b[38;5;241m1\u001b[39m)\n\u001b[0;32m----> 5\u001b[0m \u001b[43mpos_only_arg\u001b[49m\u001b[43m(\u001b[49m\u001b[43marg\u001b[49m\u001b[38;5;241;43m=\u001b[39;49m\u001b[38;5;241;43m1\u001b[39;49m\u001b[43m)\u001b[49m\n",
      "\u001b[0;31mTypeError\u001b[0m: pos_only_arg() got some positional-only arguments passed as keyword arguments: 'arg'"
     ]
    }
   ],
   "source": [
    "def pos_only_arg(arg, /):\n",
    "    print(arg)\n",
    "\n",
    "pos_only_arg(1)\n",
    "pos_only_arg(arg=1) # TypeError"
   ]
  },
  {
   "cell_type": "markdown",
   "id": "d133709a-a507-46f2-9355-8a284e207dd2",
   "metadata": {},
   "source": [
    "### Keyword-Only Parameters\n",
    "\n",
    "To mark the parameters are *Keyword-Only*, indicating the parameters must passed by keyword argument, place a `*` in the argument list just before the first keyword-only paramter."
   ]
  },
  {
   "cell_type": "code",
   "execution_count": 14,
   "id": "5229a2e2-b53a-4047-9e68-fb0fd6035402",
   "metadata": {},
   "outputs": [
    {
     "name": "stdout",
     "output_type": "stream",
     "text": [
      "1 s key\n"
     ]
    }
   ],
   "source": [
    "def combined_example(pos_only, /, standard, *, kwd_only):\n",
    "    print(pos_only, standard, kwd_only)\n",
    "\n",
    "combined_example(1,'s', kwd_only='key')"
   ]
  },
  {
   "cell_type": "markdown",
   "id": "5d959df0-ac10-4a86-8e01-a8fa80a5318a",
   "metadata": {},
   "source": [
    "### 4.8.5. Unpacking Argument List\n"
   ]
  },
  {
   "cell_type": "markdown",
   "id": "6d1ae11c-03a6-4dcf-ad74-62df960f84b7",
   "metadata": {},
   "source": [
    "The reverse situation occurs when arguments are already in a list or tuple but need to be unpacked for a function call requiring separate positional arguments. For example, the build-in `range()` function expects *start* and *stop* arguments. If they are not avaliable separately, write the function call with `*` operator to unpack the arguments of a list or tuple:"
   ]
  },
  {
   "cell_type": "code",
   "execution_count": null,
   "id": "48c8d032-d1f8-4af1-aaf4-63ad1a053915",
   "metadata": {},
   "outputs": [],
   "source": [
    "args = [3, 6]\n",
    "list(range(*args))            # call with arguments unpacked from a list"
   ]
  }
 ],
 "metadata": {
  "kernelspec": {
   "display_name": "Python 3 (ipykernel)",
   "language": "python",
   "name": "python3"
  },
  "language_info": {
   "codemirror_mode": {
    "name": "ipython",
    "version": 3
   },
   "file_extension": ".py",
   "mimetype": "text/x-python",
   "name": "python",
   "nbconvert_exporter": "python",
   "pygments_lexer": "ipython3",
   "version": "3.12.3"
  }
 },
 "nbformat": 4,
 "nbformat_minor": 5
}
