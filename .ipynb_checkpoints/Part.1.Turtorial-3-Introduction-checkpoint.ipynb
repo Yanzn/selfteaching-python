{
 "cells": [
  {
   "cell_type": "markdown",
   "id": "f4b5f85a-9336-4e71-80c5-97d2917f66f8",
   "metadata": {},
   "source": [
    "# 3. An Informal Introduction to Python"
   ]
  },
  {
   "cell_type": "markdown",
   "id": "edd7d77f-6dda-4cbb-8f25-b5c23f91128b",
   "metadata": {},
   "source": [
    "## 3.1 Numbers"
   ]
  },
  {
   "cell_type": "markdown",
   "id": "6c08a325-f223-407f-9796-6304f0a51c34",
   "metadata": {},
   "source": [
    "Division (`/`) always returns a float.  \n",
    "To do floor division and get an integer result you can use the `//` operator.  \n",
    "To calculate the remainder you can use `%`.  \n",
    "Use the `**` operator to calculate powers."
   ]
  },
  {
   "cell_type": "code",
   "execution_count": 38,
   "id": "462beafc-57b2-4b1e-8ca2-5401836856ac",
   "metadata": {},
   "outputs": [
    {
     "name": "stdout",
     "output_type": "stream",
     "text": [
      "3.0\n",
      "3\n",
      "4\n",
      "128\n"
     ]
    }
   ],
   "source": [
    "print(9 / 3)      # division always returns a floating point number\n",
    "print(9 // 3)     # floor division discards the fractional part\n",
    "print(9 % 5)      # the % operator returns the remainder of the division\n",
    "print(2 ** 7)     # 2 to the power of 7"
   ]
  },
  {
   "cell_type": "markdown",
   "id": "38b965c1-5e79-4190-afc9-e7d2f8d94680",
   "metadata": {},
   "source": [
    "In interactive mode, the last printed expression is assigned to the variable `_`. This means that when you are using Python as a desk calculator, it is somewhat easier to continue calculations, for example:\n",
    "\n",
    "> 在交互模式下，最后被打印的表达式结果，会被赋值给变量 `_`, 不要显式给这个变量赋值或修改这个变量的值，把它当作read-only"
   ]
  },
  {
   "cell_type": "code",
   "execution_count": 39,
   "id": "24e9ecfe-f2c1-4262-9ae5-ece060ea4869",
   "metadata": {},
   "outputs": [
    {
     "ename": "TypeError",
     "evalue": "unsupported operand type(s) for +: 'float' and 'str'",
     "output_type": "error",
     "traceback": [
      "\u001b[0;31m---------------------------------------------------------------------------\u001b[0m",
      "\u001b[0;31mTypeError\u001b[0m                                 Traceback (most recent call last)",
      "Cell \u001b[0;32mIn[39], line 4\u001b[0m\n\u001b[1;32m      2\u001b[0m price \u001b[38;5;241m=\u001b[39m \u001b[38;5;241m100.50\u001b[39m\n\u001b[1;32m      3\u001b[0m price \u001b[38;5;241m*\u001b[39m tax\n\u001b[0;32m----> 4\u001b[0m \u001b[43mprice\u001b[49m\u001b[43m \u001b[49m\u001b[38;5;241;43m+\u001b[39;49m\u001b[43m \u001b[49m\u001b[43m_\u001b[49m\n\u001b[1;32m      5\u001b[0m \u001b[38;5;28mround\u001b[39m(_, \u001b[38;5;241m2\u001b[39m)\n",
      "\u001b[0;31mTypeError\u001b[0m: unsupported operand type(s) for +: 'float' and 'str'"
     ]
    }
   ],
   "source": [
    "tax = 12.5 / 100\n",
    "price = 100.50\n",
    "price * tax\n",
    "price + _\n",
    "round(_, 2)"
   ]
  },
  {
   "cell_type": "markdown",
   "id": "394b082d-10b9-4565-8191-76b3580b666c",
   "metadata": {},
   "source": [
    "## 3.2 Text"
   ]
  },
  {
   "cell_type": "markdown",
   "id": "f4f5b689-32cf-4595-aea3-0fe637a639cd",
   "metadata": {},
   "source": [
    "String literals can span multiple lines. One way is using triple-quotes: `\"\"\"...\"\"\"` or `'''...'''`. End of lines are automatically included in the string, but it’s possible to prevent this by adding a `\\` at the end of the line (note that the initial newline is not included):. The following example:\n",
    "\n",
    "> 三个引号定义的多行字符串，在三个引号后开始第一行，加上 `\\` 表示从字符串下一行开始"
   ]
  },
  {
   "cell_type": "code",
   "execution_count": null,
   "id": "4887257f-5b00-4ccb-858f-d0d2f85cd9a1",
   "metadata": {},
   "outputs": [],
   "source": [
    "print(\"\"\"\\\n",
    "Usage: thingy [OPTIONS]\n",
    "         -h                        Display this usage message\n",
    "         -H hostname               Hostname to connect to\n",
    "\"\"\")"
   ]
  },
  {
   "cell_type": "markdown",
   "id": "0d3ddf9f-822a-4e90-b01f-7e23eb9c998d",
   "metadata": {},
   "source": [
    "Strings can be concatenated (glued together) with `+` operator, and repeated with `*`:"
   ]
  },
  {
   "cell_type": "code",
   "execution_count": null,
   "id": "e86d8684-391f-43fc-bd1b-38846ae6a90a",
   "metadata": {},
   "outputs": [],
   "source": [
    "3 * 'um' + 'ium' # return 'umumumium'"
   ]
  },
  {
   "cell_type": "markdown",
   "id": "095baef3-2d45-4ee5-940f-fa017a1b94a9",
   "metadata": {},
   "source": [
    "Two more *string* literals next to each other are automatically concatenated. "
   ]
  },
  {
   "cell_type": "code",
   "execution_count": null,
   "id": "fe86f7ac-d05a-4019-aebb-fdbf5c0486b4",
   "metadata": {},
   "outputs": [],
   "source": [
    "'Py' 'thon'"
   ]
  },
  {
   "cell_type": "markdown",
   "id": "f0d7d774-7fc9-4320-aee2-b0b65136d25a",
   "metadata": {},
   "source": [
    "This feature is particularly useful when you want to break long strings:"
   ]
  },
  {
   "cell_type": "code",
   "execution_count": null,
   "id": "49a50474-8b3b-4a43-8fbc-d4ec02126bd7",
   "metadata": {},
   "outputs": [],
   "source": [
    "text = ('Put several strings within parentheses' \n",
    "       ' to have them joined together.')\n",
    "print(text)"
   ]
  },
  {
   "cell_type": "markdown",
   "id": "1974c586-881e-46f6-8198-4373c8fa5fa7",
   "metadata": {},
   "source": [
    "This only works with two literals though, not with variables or expressions:"
   ]
  },
  {
   "cell_type": "code",
   "execution_count": null,
   "id": "c430b09f-09a4-4c12-a0b8-f0987fa2c1a3",
   "metadata": {},
   "outputs": [],
   "source": [
    "prefix = 'Py'\n",
    "prefix 'thon'"
   ]
  },
  {
   "cell_type": "markdown",
   "id": "e5688a2e-4387-4108-89b3-86d9a4ed0da9",
   "metadata": {},
   "source": [
    "In the Python shell, the string definition and output string can look different. The `print()` function produces a more **readable** output, by omitting the enclosing quotes and by printing escaped and special characters:"
   ]
  },
  {
   "cell_type": "code",
   "execution_count": null,
   "id": "7cbf96a3-ac2f-4618-93b8-2e066f9781d3",
   "metadata": {},
   "outputs": [],
   "source": [
    "print('First line. \\nSecond line.')"
   ]
  },
  {
   "cell_type": "markdown",
   "id": "22861a06-f16e-405a-8eb4-1e60d19efb90",
   "metadata": {},
   "source": [
    "Strings can be indexed, with the first character having index 0. Indices may also be negative numbers, to start from the right.  \n",
    "*Note that since -0 is the same as 0, negative indices start from -1.*"
   ]
  },
  {
   "cell_type": "code",
   "execution_count": 57,
   "id": "8ff8a52e-4490-4d92-98ac-807ac856edb2",
   "metadata": {},
   "outputs": [
    {
     "name": "stdout",
     "output_type": "stream",
     "text": [
      "P\n",
      "n\n",
      "\n"
     ]
    }
   ],
   "source": [
    "word = 'Python'\n",
    "print(word[0])\n",
    "print(word[-1])\n",
    "print(word[-6])"
   ]
  },
  {
   "cell_type": "markdown",
   "id": "7caef226-6e2d-40fc-9fd5-3e5f8e99015a",
   "metadata": {},
   "source": [
    "In addition to indexing, slice is also supported. While indexing is used to obtain individual characters, slicing is to obtain a substring:"
   ]
  },
  {
   "cell_type": "code",
   "execution_count": 44,
   "id": "4ad5f64a-a887-4adb-8268-e977144c1fd5",
   "metadata": {},
   "outputs": [
    {
     "data": {
      "text/plain": [
       "'yt'"
      ]
     },
     "execution_count": 44,
     "metadata": {},
     "output_type": "execute_result"
    }
   ],
   "source": [
    "word = 'Python'\n",
    "word[1:3]"
   ]
  },
  {
   "cell_type": "markdown",
   "id": "93701bf4-3363-4610-b2eb-796a0e5939e4",
   "metadata": {},
   "source": [
    "Slice indices have useful default values; an omitted first index defaults to zero, an omitted second index defaults to the size of the string being sliced."
   ]
  },
  {
   "cell_type": "code",
   "execution_count": 55,
   "id": "beb3176b-9a00-459a-9f25-84202c45820f",
   "metadata": {
    "scrolled": true
   },
   "outputs": [
    {
     "name": "stdout",
     "output_type": "stream",
     "text": [
      "Py\n",
      "thon\n",
      "on\n",
      "o\n",
      "Pytho\n"
     ]
    }
   ],
   "source": [
    "word = 'Python'\n",
    "print(word[:2])   # characters from the beginning to position 2(excluded) \n",
    "print(word[2:])   # characters from position 2(included) to the end\n",
    "print(word[-2:])  # characters from the second-last(included) to the end\n",
    "print(word[-2])\n",
    "print(word[:5])"
   ]
  },
  {
   "cell_type": "markdown",
   "id": "ab592fc6-778f-4162-926f-ad961f4305ad",
   "metadata": {},
   "source": [
    "Note how the start is always included, and the end always excluded. This makes sure that `s[:i] + s[i:]` is always equal `s`:"
   ]
  },
  {
   "cell_type": "code",
   "execution_count": 66,
   "id": "1ee8c21d-f89e-4900-9735-ffa9d437c8c3",
   "metadata": {},
   "outputs": [
    {
     "name": "stdout",
     "output_type": "stream",
     "text": [
      "Python\n"
     ]
    }
   ],
   "source": [
    "word = 'Python'\n",
    "print(word[:3] + word[3:])"
   ]
  },
  {
   "cell_type": "markdown",
   "id": "3a69f8c3-8d64-4e2c-908e-e6dde1691577",
   "metadata": {},
   "source": [
    "## 3.3 Lists"
   ]
  },
  {
   "cell_type": "markdown",
   "id": "3df72c3f-76f7-4418-8d22-400dce2b2083",
   "metadata": {},
   "source": [
    "The most versatil container is the list, which can be written as a list of comma-seprated values(items) between square brackets. List might contain items of different types, but usually the items all have the same type."
   ]
  },
  {
   "cell_type": "markdown",
   "id": "8c2e7124-39cf-4276-8e9d-8e0b4e7fcc76",
   "metadata": {},
   "source": [
    "Like strings (and all other sequence types), list can be indexed and sliced.\n",
    "\n",
    "Unlike strings, which are immutable, lists are mutable typem, i.e. it is possible to change their content.  "
   ]
  },
  {
   "cell_type": "markdown",
   "id": "84a4f023-591d-443e-a2e7-8e9621e712ff",
   "metadata": {},
   "source": [
    "**Simple assignment in Python never copies data**. When you assign a list to a variable, the variable refers to the existing list. Any changes you make to the list through one variable will be seen all other variables that rafer to it:"
   ]
  },
  {
   "cell_type": "code",
   "execution_count": 72,
   "id": "0e0a7379-f7f8-4cf9-85b1-57feac703b90",
   "metadata": {},
   "outputs": [
    {
     "name": "stdout",
     "output_type": "stream",
     "text": [
      "['Red', 'Green', 'Blue', 'Black']\n"
     ]
    }
   ],
   "source": [
    "rgb = [\"Red\", \"Green\", \"Blue\"]\n",
    "rgba = rgb\n",
    "rgba.append('Black')\n",
    "print(rgb)"
   ]
  },
  {
   "cell_type": "markdown",
   "id": "1f099b5c-f384-44ec-ba41-9ae056e6c908",
   "metadata": {},
   "source": [
    "All slice operations return a new list containing the requested elements. This means the following slice returns a <Strong style='color: green'>shallow copy</Strong> of the list:"
   ]
  },
  {
   "cell_type": "code",
   "execution_count": 1,
   "id": "b45bc9c2-dcce-44bb-ad19-edccd028027b",
   "metadata": {},
   "outputs": [
    {
     "name": "stdout",
     "output_type": "stream",
     "text": [
      "['Red', 'Green', 'Blue']\n"
     ]
    }
   ],
   "source": [
    "rgb = [\"Red\", \"Green\", \"Blue\"]\n",
    "rgba = rgb[:]\n",
    "print(rgba)"
   ]
  },
  {
   "cell_type": "markdown",
   "id": "24695044-1598-4e6b-9353-ca8342eb608e",
   "metadata": {},
   "source": [
    "Assignment to slices is also possible, and this can even change the size of the list or clear it entirely:"
   ]
  },
  {
   "cell_type": "code",
   "execution_count": 4,
   "id": "e19f3079-a322-4af0-84ff-bcbf6c0c68a7",
   "metadata": {},
   "outputs": [
    {
     "name": "stdout",
     "output_type": "stream",
     "text": [
      "['a', 'b', 'C', 'D', 'E', 'f', 'g']\n",
      "['a', 'b', 'f', 'g']\n",
      "[]\n"
     ]
    }
   ],
   "source": [
    "letters = ['a', 'b', 'c', 'd', 'e', 'f', 'g']\n",
    "letters[2:5] = ['C', 'D', 'E']   # replace some values\n",
    "print(letters)\n",
    "letters[2:5] = []    # remove some values\n",
    "print(letters)\n",
    "letters[:] = []      # clear the list by replacing all the elements with an empty list\n",
    "print(letters)"
   ]
  },
  {
   "cell_type": "code",
   "execution_count": null,
   "id": "82fd4bdc-6b0c-42bc-a950-9021c11861f2",
   "metadata": {},
   "outputs": [],
   "source": [
    "## 4. "
   ]
  }
 ],
 "metadata": {
  "kernelspec": {
   "display_name": "Python 3 (ipykernel)",
   "language": "python",
   "name": "python3"
  },
  "language_info": {
   "codemirror_mode": {
    "name": "ipython",
    "version": 3
   },
   "file_extension": ".py",
   "mimetype": "text/x-python",
   "name": "python",
   "nbconvert_exporter": "python",
   "pygments_lexer": "ipython3",
   "version": "3.12.3"
  }
 },
 "nbformat": 4,
 "nbformat_minor": 5
}
