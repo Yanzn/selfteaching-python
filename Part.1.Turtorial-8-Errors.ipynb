{
 "cells": [
  {
   "cell_type": "markdown",
   "id": "d31b8198-c70a-4bad-b5e6-419b980053ee",
   "metadata": {},
   "source": [
    "# 8. Errors and Exceprions"
   ]
  },
  {
   "cell_type": "markdown",
   "id": "9c433f30-6fe3-4ebe-8b1d-795d1167dc2b",
   "metadata": {},
   "source": [
    "The `try...expect` statement has an optional `else` clause, when present, must follow all except clauses. It is useful for code that must be executed if the `try` clause does not raise an exeception. For example:"
   ]
  },
  {
   "cell_type": "code",
   "execution_count": 5,
   "id": "867da970-226d-4d1f-80cf-46d5b6b4b59a",
   "metadata": {},
   "outputs": [
    {
     "name": "stdout",
     "output_type": "stream",
     "text": [
      "cannot open -f\n",
      "/Users/max/Library/Jupyter/runtime/kernel-40312f3c-387f-4fce-8c05-9a14bb8841ca.json has 13 lines\n"
     ]
    }
   ],
   "source": [
    "import sys\n",
    "\n",
    "for arg in sys.argv[1:]:\n",
    "    try:\n",
    "        f = open(arg, 'r')\n",
    "    except OSError:\n",
    "        print('cannot open', arg)\n",
    "    else:\n",
    "        print(arg, 'has', len(f.readlines()), 'lines')\n",
    "        f.close()"
   ]
  },
  {
   "cell_type": "code",
   "execution_count": 6,
   "id": "a4cb22f5-2dc5-4870-9f3f-a6fa34870f29",
   "metadata": {},
   "outputs": [
    {
     "ename": "NameError",
     "evalue": "xxx",
     "output_type": "error",
     "traceback": [
      "\u001b[0;31m---------------------------------------------------------------------------\u001b[0m",
      "\u001b[0;31mNameError\u001b[0m                                 Traceback (most recent call last)",
      "Cell \u001b[0;32mIn[6], line 1\u001b[0m\n\u001b[0;32m----> 1\u001b[0m \u001b[38;5;28;01mraise\u001b[39;00m \u001b[38;5;167;01mNameError\u001b[39;00m(\u001b[38;5;124m'\u001b[39m\u001b[38;5;124mxxx\u001b[39m\u001b[38;5;124m'\u001b[39m)\n",
      "\u001b[0;31mNameError\u001b[0m: xxx"
     ]
    }
   ],
   "source": [
    "raise NameError('xxx')"
   ]
  },
  {
   "cell_type": "code",
   "execution_count": 8,
   "id": "4a48aaf6-a849-408d-ba5d-ec43a838e791",
   "metadata": {},
   "outputs": [
    {
     "name": "stdout",
     "output_type": "stream",
     "text": [
      "aaa\n"
     ]
    },
    {
     "ename": "NameError",
     "evalue": "xxx",
     "output_type": "error",
     "traceback": [
      "\u001b[0;31m---------------------------------------------------------------------------\u001b[0m",
      "\u001b[0;31mNameError\u001b[0m                                 Traceback (most recent call last)",
      "Cell \u001b[0;32mIn[8], line 2\u001b[0m\n\u001b[1;32m      1\u001b[0m \u001b[38;5;28;01mtry\u001b[39;00m:\n\u001b[0;32m----> 2\u001b[0m     \u001b[38;5;28;01mraise\u001b[39;00m \u001b[38;5;167;01mNameError\u001b[39;00m(\u001b[38;5;124m'\u001b[39m\u001b[38;5;124mxxx\u001b[39m\u001b[38;5;124m'\u001b[39m)\n\u001b[1;32m      3\u001b[0m \u001b[38;5;28;01mexcept\u001b[39;00m:\n\u001b[1;32m      4\u001b[0m     \u001b[38;5;28mprint\u001b[39m(\u001b[38;5;124m'\u001b[39m\u001b[38;5;124maaa\u001b[39m\u001b[38;5;124m'\u001b[39m)\n",
      "\u001b[0;31mNameError\u001b[0m: xxx"
     ]
    }
   ],
   "source": [
    "try:\n",
    "    raise NameError('xxx')\n",
    "except:\n",
    "    print('aaa')\n",
    "    raise"
   ]
  },
  {
   "cell_type": "markdown",
   "id": "872a211a-4cff-43a9-a871-1509368d817a",
   "metadata": {},
   "source": [
    "`finally`\n",
    "\n",
    "> - If an exception occurs during execution of the `try` clause, the exception may be handled by `expect` clause. If the exception is not handled by an `except` clause, the exception is ***re-raiseed after che `finally` clause*** has been executed.\n",
    "> - An exception could occur during execution of an `except` or `else` clause. Again, the exception is re-raised after the finally clause has been executed.\n",
    "> - If the `try` clause executes a `return`, `break` or `continue` statement, the `finally` clause will execute just before to the `return`, `break` or `continue` statement's execution.\n",
    "> - If a `finally` clause and a `try` clause both have a `return` statement, the returned value will be the one from the `finally` clause's return statement, not the value from the `try` clause's return statement."
   ]
  },
  {
   "cell_type": "code",
   "execution_count": 1,
   "id": "7c66f7e7-fa53-4ad7-81ee-a89cbcaf3f8d",
   "metadata": {},
   "outputs": [
    {
     "data": {
      "text/plain": [
       "False"
      ]
     },
     "execution_count": 1,
     "metadata": {},
     "output_type": "execute_result"
    }
   ],
   "source": [
    "def bool_return():\n",
    "    try:\n",
    "        return True\n",
    "    finally:\n",
    "        return False\n",
    "\n",
    "bool_return()"
   ]
  },
  {
   "cell_type": "code",
   "execution_count": null,
   "id": "a986b998-d7e9-4a8f-8d22-6a4591c9e302",
   "metadata": {},
   "outputs": [],
   "source": []
  }
 ],
 "metadata": {
  "kernelspec": {
   "display_name": "Python 3 (ipykernel)",
   "language": "python",
   "name": "python3"
  },
  "language_info": {
   "codemirror_mode": {
    "name": "ipython",
    "version": 3
   },
   "file_extension": ".py",
   "mimetype": "text/x-python",
   "name": "python",
   "nbconvert_exporter": "python",
   "pygments_lexer": "ipython3",
   "version": "3.12.3"
  }
 },
 "nbformat": 4,
 "nbformat_minor": 5
}
