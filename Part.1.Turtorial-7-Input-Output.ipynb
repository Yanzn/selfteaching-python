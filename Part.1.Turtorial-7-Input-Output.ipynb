{
 "cells": [
  {
   "cell_type": "markdown",
   "id": "4ac186f7-bbf3-43dc-bac8-7d45e7944984",
   "metadata": {},
   "source": [
    "# 6. Modules"
   ]
  },
  {
   "cell_type": "markdown",
   "id": "c285660a-ed2b-4046-a952-53ad6430c142",
   "metadata": {},
   "source": [
    "## 6.1. More on Modules"
   ]
  },
  {
   "cell_type": "markdown",
   "id": "d1af1ce8-250a-47bd-a0d8-439b765bf977",
   "metadata": {},
   "source": [
    "A module can contain executable statements as well as functions definitions. These statements are intended to initialize the module. They are executed **only the first fime** the module name is encountered in an import statement.\n",
    "\n",
    "Each module has its **own namespace**, which is used as the gloable namespace by all functions defined in the module. Thus, the author of the module can use globle variables in the modlule **without worrying about accidental clashes** with a user's global variables."
   ]
  },
  {
   "cell_type": "markdown",
   "id": "e330b8ec-2cfa-4196-8f1f-6e47567be2b3",
   "metadata": {},
   "source": [
    "### 6.1.2. The Module Search Path"
   ]
  },
  {
   "cell_type": "markdown",
   "id": "300669d0-4fe8-497f-a58e-a6612b2ef190",
   "metadata": {},
   "source": [
    "When a module named spam is imported, the interpreter first seatches for build-in module with that name. These build-in module names are listed in `sys.buildin_module_names`. If not found, it then searches for a file named `spem.py` in a list of directories given by variable `sys.path` which is initialized from these locations: \n",
    "\n",
    "- The directory containing the input script(or the current directiory when no file is specified).\n",
    "- `PYTHONPATH`: a list of directory names, with zhe same syntax as the shell variable `PATH`.\n",
    "- The installation-dependent default (by convention including a `site-packages` directory, handled by the site module)"
   ]
  },
  {
   "cell_type": "markdown",
   "id": "695c1acb-f5a4-45b5-96d3-412405b7f576",
   "metadata": {},
   "source": [
    "## 6.2. The `dir()` Function"
   ]
  },
  {
   "cell_type": "markdown",
   "id": "f460d645-b151-4162-83b2-49bd4a48d066",
   "metadata": {},
   "source": [
    "The build-in function `dir()` is used to find out which names a module defines."
   ]
  },
  {
   "cell_type": "code",
   "execution_count": 48,
   "id": "b50a6393-f8fa-4739-9e2b-16575064a95e",
   "metadata": {},
   "outputs": [],
   "source": [
    "import fibo, sys\n",
    "\n",
    "# dir(fibo)\n",
    "# dir(sys)"
   ]
  },
  {
   "cell_type": "markdown",
   "id": "68db2813-cbfe-4952-acbb-d40d1db90b39",
   "metadata": {},
   "source": [
    "Without arguments, `dir()` lists the names you have defined currently:\n",
    "\n",
    "> Note that it lists all types of names: variables, modules, functions, etc."
   ]
  },
  {
   "cell_type": "code",
   "execution_count": 55,
   "id": "3539621c-f468-4473-9a82-75dab6d6d5e4",
   "metadata": {},
   "outputs": [],
   "source": [
    "import fibo\n",
    "# fibo.fib\n",
    "# a_list = [1,2,3]\n",
    "# dir()"
   ]
  },
  {
   "cell_type": "markdown",
   "id": "207f9087-7485-4998-9176-7b24c4c342db",
   "metadata": {},
   "source": [
    "## 6.4. Packages"
   ]
  },
  {
   "cell_type": "markdown",
   "id": "cd39e3e5-381a-43e1-83d1-7433c6978c82",
   "metadata": {},
   "source": [
    "The `__init__.py` files are required to make Python treat directories containing the file as packages."
   ]
  },
  {
   "cell_type": "markdown",
   "id": "ad37fc80-246f-41bc-a7d5-32f80cfd73fe",
   "metadata": {},
   "source": [
    "> Note that when using `from package import item`, the item can be either a submodule(or subpackage) of the package, or some other name defined in the package, like a function, class or variable.\n",
    ">\n",
    "> Contrarily, when using syntax like `import item.subitem.subsubitem`, each item except for the last must be a package; the last item can be a module or a oackage but can't be a class or function or variable defined in the previous item."
   ]
  },
  {
   "cell_type": "code",
   "execution_count": null,
   "id": "e5cacc2a-6f3f-44fb-ab7c-ea10946fd0b2",
   "metadata": {},
   "outputs": [],
   "source": []
  }
 ],
 "metadata": {
  "kernelspec": {
   "display_name": "Python 3 (ipykernel)",
   "language": "python",
   "name": "python3"
  },
  "language_info": {
   "codemirror_mode": {
    "name": "ipython",
    "version": 3
   },
   "file_extension": ".py",
   "mimetype": "text/x-python",
   "name": "python",
   "nbconvert_exporter": "python",
   "pygments_lexer": "ipython3",
   "version": "3.12.3"
  }
 },
 "nbformat": 4,
 "nbformat_minor": 5
}
