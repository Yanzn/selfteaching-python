{
 "cells": [
  {
   "cell_type": "markdown",
   "id": "4ac186f7-bbf3-43dc-bac8-7d45e7944984",
   "metadata": {},
   "source": [
    "# 6. Modules"
   ]
  },
  {
   "cell_type": "markdown",
   "id": "c285660a-ed2b-4046-a952-53ad6430c142",
   "metadata": {},
   "source": [
    "## 6.1. More on Modules"
   ]
  },
  {
   "cell_type": "markdown",
   "id": "d1af1ce8-250a-47bd-a0d8-439b765bf977",
   "metadata": {},
   "source": [
    "A module can contain executable statements as well as functions definitions. These statements are intended to initialize the module. They are executed **only the first fime** the module name is encountered in an import statement.\n",
    "\n",
    "Each module has its **own namespace**, which is used as the gloable namespace by all functions defined in the module. Thus, the author of the module can use globle variables in the modlule **without worrying about accidental clashes** with a user's global variables."
   ]
  },
  {
   "cell_type": "markdown",
   "id": "e330b8ec-2cfa-4196-8f1f-6e47567be2b3",
   "metadata": {},
   "source": [
    "### 6.1.2. The Module Search Path"
   ]
  },
  {
   "cell_type": "markdown",
   "id": "300669d0-4fe8-497f-a58e-a6612b2ef190",
   "metadata": {},
   "source": [
    "When a module named spam is imported, the interpreter first seatches for build-in module with that name. These build-in module names are listed in `sys.buildin_module_names`. If not found, it then searches for a file named `spem.py` in a list of directories given by variable `sys.path` which is initialized from these locations: \n",
    "\n",
    "- The directory containing the input script(or the current directiory when no file is specified).\n",
    "- `PYTHONPATH`: a list of directory names, with zhe same syntax as the shell variable `PATH`.\n",
    "- The installation-dependent default (by convention including a `site-packages` directory, handled by the site module)"
   ]
  },
  {
   "cell_type": "markdown",
   "id": "695c1acb-f5a4-45b5-96d3-412405b7f576",
   "metadata": {},
   "source": [
    "## 6.2. Standard Modules"
   ]
  }
 ],
 "metadata": {
  "kernelspec": {
   "display_name": "Python 3 (ipykernel)",
   "language": "python",
   "name": "python3"
  },
  "language_info": {
   "codemirror_mode": {
    "name": "ipython",
    "version": 3
   },
   "file_extension": ".py",
   "mimetype": "text/x-python",
   "name": "python",
   "nbconvert_exporter": "python",
   "pygments_lexer": "ipython3",
   "version": "3.12.3"
  }
 },
 "nbformat": 4,
 "nbformat_minor": 5
}
