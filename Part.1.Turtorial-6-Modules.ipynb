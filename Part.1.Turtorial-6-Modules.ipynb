{
 "cells": [
  {
   "cell_type": "markdown",
   "id": "1972c323-17e0-48c6-9b9c-8d0f0269d44d",
   "metadata": {},
   "source": [
    "# 7. Input and Output"
   ]
  },
  {
   "cell_type": "markdown",
   "id": "7885cc6d-c9cd-4ced-86b1-4d5d252bd9e5",
   "metadata": {},
   "source": [
    "## 7.1. Fancier Output Formatting"
   ]
  },
  {
   "cell_type": "markdown",
   "id": "97dfb03f-377c-4475-9200-621c64c03b15",
   "metadata": {},
   "source": [
    "### 7.1.1. Formatted String Literals"
   ]
  },
  {
   "cell_type": "code",
   "execution_count": 66,
   "id": "459ea4ab-4d31-4a0e-8f76-74d1e2bb7642",
   "metadata": {},
   "outputs": [
    {
     "name": "stdout",
     "output_type": "stream",
     "text": [
      "The value of pi is approximately 3.142\n"
     ]
    }
   ],
   "source": [
    "import math\n",
    "#  rounds pi to three places after the decimal\n",
    "print(f'The value of pi is approximately {math.pi:.3f}')"
   ]
  },
  {
   "cell_type": "markdown",
   "id": "8bb4903d-e9a0-4080-ad39-ae216126e70b",
   "metadata": {},
   "source": [
    "Passing an integer number after `:` will cause that number to be a minimum number of characters wide. This is useful for making columns line up:"
   ]
  },
  {
   "cell_type": "code",
   "execution_count": 67,
   "id": "462d1d68-00ea-4607-b2c6-404f1ce0af1a",
   "metadata": {},
   "outputs": [
    {
     "name": "stdout",
     "output_type": "stream",
     "text": [
      "Sjoerd     ==>       4127\n",
      "Jack       ==>       4098\n",
      "Dcab       ==>       7678\n"
     ]
    }
   ],
   "source": [
    "table = {'Sjoerd': 4127, 'Jack': 4098, 'Dcab': 7678}\n",
    "for name, phone in table.items():\n",
    "    print(f'{name:10} ==> {phone:10d}')"
   ]
  },
  {
   "cell_type": "markdown",
   "id": "dcd56faf-28bc-4494-8903-f56f69f1b286",
   "metadata": {},
   "source": [
    "### 7.1.2. The String `format()` method"
   ]
  },
  {
   "cell_type": "markdown",
   "id": "d35e23cf-aa92-4797-a773-ab672736911f",
   "metadata": {},
   "source": [
    "## 7.2. Reading and Writing Files"
   ]
  },
  {
   "cell_type": "markdown",
   "id": "18c72f0a-1a4a-4ef8-a403-f34fd70c0300",
   "metadata": {},
   "source": [
    "`open()` return a file object, and is most commonly used with two positional arguments and one keyword argument:   \n",
    "\n",
    "> `open(filename, mode, encoding=None)`"
   ]
  },
  {
   "cell_type": "code",
   "execution_count": 69,
   "id": "5655e927-561c-49b6-b20c-4da01b6080e1",
   "metadata": {},
   "outputs": [],
   "source": [
    "f = open('workfile', 'w', encoding=\"utf-8\")"
   ]
  }
 ],
 "metadata": {
  "kernelspec": {
   "display_name": "Python 3 (ipykernel)",
   "language": "python",
   "name": "python3"
  },
  "language_info": {
   "codemirror_mode": {
    "name": "ipython",
    "version": 3
   },
   "file_extension": ".py",
   "mimetype": "text/x-python",
   "name": "python",
   "nbconvert_exporter": "python",
   "pygments_lexer": "ipython3",
   "version": "3.12.3"
  }
 },
 "nbformat": 4,
 "nbformat_minor": 5
}
