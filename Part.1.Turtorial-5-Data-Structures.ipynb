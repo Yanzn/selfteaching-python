{
 "cells": [
  {
   "cell_type": "markdown",
   "id": "34a79737-49ec-4c68-9ddf-09047238acb2",
   "metadata": {},
   "source": [
    "# Data Structures"
   ]
  },
  {
   "cell_type": "markdown",
   "id": "98881b45-b0be-4b75-8f11-a569bc0d478f",
   "metadata": {},
   "source": [
    "## 5.1. More on Lists"
   ]
  },
  {
   "cell_type": "markdown",
   "id": "57ed1230-85da-44a4-9027-68c6d9b10ee9",
   "metadata": {},
   "source": [
    "Here are all of the methods of list objects:\n",
    "\n",
    "`list.append(x)`  \n",
    "> Add an item to the end of the list. Equivalent to `list[len(list):] = [x]`\n",
    "\n",
    "`list.extend(iterable)`  \n",
    "> Extend the list by appending all items from the iterable. Equivalent to `list[len(list):] = iterable`.\n",
    "\n",
    "`list.insert(i, x)`\n",
    "> Insert an item at the given position.\n",
    "\n",
    "`list.remove(x)`\n",
    "> Remove the first item from the list whose value is equal to x. It raises a `ValueError` if there is no such item.\n",
    "\n",
    "`list.pop([index])`\n",
    "> Remove the item at the given position in the list, and return it. If no index is specified, `list.pop()` removes and returns the last item in the list. It raises an `IndexError` if the list is emty or the index is outside the list range.\n",
    "\n",
    "`list.clear()`  \n",
    "> Remove all items from the list. Equivalent to the `del list[:]`.\n",
    "\n",
    "`list.index(x[, start[, stop]])`  \n",
    "> Return zero-based index in the list of the first item whose value is equal to x. Raise a `ValueError` if there is no such item.\n",
    "> \n",
    "> The optional arguments *start* and *stop* are intepreted as in the slice notation and are used to limit the search to a particular subsequence of the list. The returned index is computed relative to the beginning of the full sequence rather than the *start* argument.\n",
    "\n",
    "`list.count(x)`  \n",
    "> Return the number of times *x* appears in the list.\n",
    "\n",
    "`list.sort(*, key=None, reverse=False)`  \n",
    "> Sort the items of the list in place.\n",
    "\n",
    "`list.reverse()`  \n",
    "> Reverse the elements of the list in place.\n",
    "\n",
    "`list.copy()`  \n",
    "> Return a shallow copy of the list. Equivalent to `list[:]`."
   ]
  },
  {
   "cell_type": "code",
   "execution_count": 12,
   "id": "a8a48087-eb45-4d16-a290-c8edf57b16ba",
   "metadata": {},
   "outputs": [
    {
     "data": {
      "text/plain": [
       "2"
      ]
     },
     "execution_count": 12,
     "metadata": {},
     "output_type": "execute_result"
    },
    {
     "data": {
      "text/plain": [
       "1"
      ]
     },
     "execution_count": 12,
     "metadata": {},
     "output_type": "execute_result"
    },
    {
     "data": {
      "text/plain": [
       "5"
      ]
     },
     "execution_count": 12,
     "metadata": {},
     "output_type": "execute_result"
    },
    {
     "data": {
      "text/plain": [
       "['banana', 'apple', 'kiwi', 'banana', 'pear', 'apple', 'orange']"
      ]
     },
     "execution_count": 12,
     "metadata": {},
     "output_type": "execute_result"
    },
    {
     "data": {
      "text/plain": [
       "['apple', 'apple', 'banana', 'banana', 'kiwi', 'orange', 'pear']"
      ]
     },
     "execution_count": 12,
     "metadata": {},
     "output_type": "execute_result"
    },
    {
     "data": {
      "text/plain": [
       "['apple', 'apple', 'banana', 'banana', 'kiwi', 'orange', 'pear', 'grape']"
      ]
     },
     "execution_count": 12,
     "metadata": {},
     "output_type": "execute_result"
    },
    {
     "data": {
      "text/plain": [
       "'grape'"
      ]
     },
     "execution_count": 12,
     "metadata": {},
     "output_type": "execute_result"
    }
   ],
   "source": [
    "from IPython.core.interactiveshell import InteractiveShell\n",
    "InteractiveShell.ast_node_interactivity = \"all\"\n",
    "\n",
    "fruits = ['orange', 'apple', 'pear', 'banana', 'kiwi', 'apple', 'banana']\n",
    "\n",
    "fruits.count('apple')\n",
    "\n",
    "fruits.index('apple')\n",
    "fruits.index('apple', 2)\n",
    "\n",
    "fruits.reverse()\n",
    "fruits\n",
    "\n",
    "fruits.sort()\n",
    "fruits\n",
    "\n",
    "fruits.append('grape')\n",
    "fruits\n",
    "\n",
    "fruits.pop()"
   ]
  },
  {
   "cell_type": "markdown",
   "id": "a8bff6b2-c657-4e80-9b29-30a4bdc3f28b",
   "metadata": {},
   "source": [
    "Methods like `insert`, `remove`, `sort` that only modify the list and return default `None`. This is a design principle for all mutable data structures in Python."
   ]
  },
  {
   "cell_type": "markdown",
   "id": "b816e51e-a6f2-4bda-9eac-1e388baec8ca",
   "metadata": {},
   "source": [
    "### 5.1.1. Using Lists as Stacks"
   ]
  },
  {
   "cell_type": "markdown",
   "id": "21efd947-c8d5-4f1c-851c-5554dcedb0da",
   "metadata": {},
   "source": [
    "The list method make it very easy to use a list as a stack, where the last element added is the first element retrieved(\"last-in, first-out\"). To add an item to the top of stack, use `append()`. To retrieve an item from the top of the stack, use `pop()` without an explict index:"
   ]
  },
  {
   "cell_type": "code",
   "execution_count": 19,
   "id": "30569be1-0f81-4c0b-a069-8271ed02842a",
   "metadata": {},
   "outputs": [
    {
     "data": {
      "text/plain": [
       "[4, 5, 6, 7]"
      ]
     },
     "execution_count": 19,
     "metadata": {},
     "output_type": "execute_result"
    },
    {
     "data": {
      "text/plain": [
       "7"
      ]
     },
     "execution_count": 19,
     "metadata": {},
     "output_type": "execute_result"
    },
    {
     "data": {
      "text/plain": [
       "[4, 5, 6]"
      ]
     },
     "execution_count": 19,
     "metadata": {},
     "output_type": "execute_result"
    },
    {
     "data": {
      "text/plain": [
       "6"
      ]
     },
     "execution_count": 19,
     "metadata": {},
     "output_type": "execute_result"
    },
    {
     "data": {
      "text/plain": [
       "[4, 5]"
      ]
     },
     "execution_count": 19,
     "metadata": {},
     "output_type": "execute_result"
    }
   ],
   "source": [
    "from IPython.core.interactiveshell import InteractiveShell\n",
    "InteractiveShell.ast_node_interactivity = \"all\"\n",
    "\n",
    "stack = [4, 5, 6]\n",
    "stack.append(7)\n",
    "stack\n",
    "\n",
    "stack.pop()\n",
    "stack\n",
    "stack.pop()\n",
    "stack"
   ]
  },
  {
   "cell_type": "markdown",
   "id": "1a11dcbc-cdf1-410d-af0e-e79f811c3d99",
   "metadata": {},
   "source": [
    "### 5.1.2. Using Lists as Queues"
   ]
  },
  {
   "cell_type": "markdown",
   "id": "8150d05b-66b8-4ce2-bd0c-a769e2c940fd",
   "metadata": {},
   "source": [
    "It is also possible to use a list as a queue, where the first element added is the first element retrieved(\"first-in, first-out\"); however list is not efficient for this purpose. While appends and pops from the end of list are fast, doing inserts or pops from the beginning of list is slow(***because all of the other elements have to be shifted one by one***)."
   ]
  },
  {
   "cell_type": "markdown",
   "id": "d115582b-c78d-4177-a700-b49ed97d403a",
   "metadata": {},
   "source": [
    "To implement a queue, use `collections.deque` which was designed to have fast appends and pops from both ends:"
   ]
  },
  {
   "cell_type": "code",
   "execution_count": 27,
   "id": "1244c91d-2d7c-4b66-8462-e121c7a9826c",
   "metadata": {},
   "outputs": [
    {
     "data": {
      "text/plain": [
       "'a'"
      ]
     },
     "execution_count": 27,
     "metadata": {},
     "output_type": "execute_result"
    },
    {
     "data": {
      "text/plain": [
       "'b'"
      ]
     },
     "execution_count": 27,
     "metadata": {},
     "output_type": "execute_result"
    },
    {
     "data": {
      "text/plain": [
       "deque(['c', 'd', 'e'])"
      ]
     },
     "execution_count": 27,
     "metadata": {},
     "output_type": "execute_result"
    }
   ],
   "source": [
    "from collections import deque\n",
    "\n",
    "queue = deque(['a', 'b', 'c'])\n",
    "queue.append('d')\n",
    "queue.append('e')\n",
    "\n",
    "queue.popleft()\n",
    "queue.popleft()\n",
    "queue"
   ]
  },
  {
   "cell_type": "markdown",
   "id": "b41934e8-bcf5-46da-90b8-fac15af3d114",
   "metadata": {},
   "source": [
    "### 5.1.3. List Comprehensions"
   ]
  },
  {
   "cell_type": "markdown",
   "id": "77dc2c32-441f-45b1-8579-34b3f51e81b2",
   "metadata": {},
   "source": [
    "A list comprehension consists of brakets containing an expression followed by an `for` clause, then zero or more `for` or `if` clauses. The result will be a new list resulting from evaluating the expression in the context of the `for` or `if` clauses which follow it."
   ]
  },
  {
   "cell_type": "code",
   "execution_count": 31,
   "id": "e1344903-6c78-455d-8f9f-0b19dd296b6d",
   "metadata": {},
   "outputs": [
    {
     "data": {
      "text/plain": [
       "[(1, 3), (1, 2), (2, 3), (2, 1), (3, 2), (3, 1)]"
      ]
     },
     "execution_count": 31,
     "metadata": {},
     "output_type": "execute_result"
    },
    {
     "data": {
      "text/plain": [
       "[(1, 3), (1, 2), (2, 3), (2, 1), (3, 2), (3, 1)]"
      ]
     },
     "execution_count": 31,
     "metadata": {},
     "output_type": "execute_result"
    }
   ],
   "source": [
    "[(x, y) for x in [1,2,3] for y in [3,2,1] if x!=y]\n",
    "\n",
    "# equivalent to \n",
    "comb = []\n",
    "for x in [1,2,3]:\n",
    "    for y in [3,2,1]:\n",
    "        if x!=y:\n",
    "            comb.append((x,y))\n",
    "comb"
   ]
  },
  {
   "cell_type": "code",
   "execution_count": null,
   "id": "edd0ea28-e036-449e-85bd-4c69b96ae7bd",
   "metadata": {},
   "outputs": [],
   "source": [
    "List comprehensions can contain complex expressions and nested functions:"
   ]
  },
  {
   "cell_type": "code",
   "execution_count": 34,
   "id": "cad8966a-7706-47f4-bb49-7e5325a6858a",
   "metadata": {},
   "outputs": [
    {
     "data": {
      "text/plain": [
       "['3.1', '3.14', '3.142', '3.1416', '3.14159']"
      ]
     },
     "execution_count": 34,
     "metadata": {},
     "output_type": "execute_result"
    }
   ],
   "source": [
    "from math import pi\n",
    "[str(round(pi, i)) for i in range(1,6)]"
   ]
  },
  {
   "cell_type": "markdown",
   "id": "01fda7a3-d46a-48e8-8f5a-d7a593bf4780",
   "metadata": {},
   "source": [
    "### 5.1.4. Nested List Comprehensions"
   ]
  },
  {
   "cell_type": "markdown",
   "id": "c46731f3-52b5-44cc-b18d-9f2caeb7f023",
   "metadata": {},
   "source": [
    "The initial expression in a list comprehension can be any arbitrary expression, including another list comprehension."
   ]
  },
  {
   "cell_type": "code",
   "execution_count": 38,
   "id": "ae9307a5-9d52-450b-917d-5133bfb695ba",
   "metadata": {},
   "outputs": [
    {
     "data": {
      "text/plain": [
       "[[1, 5, 9], [2, 6, 10], [3, 7, 11], [4, 8, 12]]"
      ]
     },
     "execution_count": 38,
     "metadata": {},
     "output_type": "execute_result"
    },
    {
     "data": {
      "text/plain": [
       "[[1, 5, 9], [2, 6, 10], [3, 7, 11], [4, 8, 12]]"
      ]
     },
     "execution_count": 38,
     "metadata": {},
     "output_type": "execute_result"
    }
   ],
   "source": [
    "matrix = [\n",
    "    [1, 2, 3, 4],\n",
    "    [5, 6, 7, 8],\n",
    "    [9, 10, 11, 12],\n",
    "]\n",
    "[[raw[i] for raw in matrix] for i in range(len(matrix) + 1)]\n",
    "\n",
    "# equivalent to \n",
    "transposed = []\n",
    "for i in range(4):\n",
    "    transposed.append([row[i] for row in matrix])\n",
    "\n",
    "transposed"
   ]
  },
  {
   "cell_type": "markdown",
   "id": "da0a5647-9370-4160-bcb2-4b571157001b",
   "metadata": {},
   "source": [
    "## 5.4. Sets"
   ]
  },
  {
   "cell_type": "markdown",
   "id": "f19f4670-49a6-49ec-8746-25eb37d7c5cf",
   "metadata": {},
   "source": [
    "Curly braces or `set()` function can be used to create sets.   \n",
    "> Note: to create an empty set, you have to use `set()` function, not `{}`, the `{}` create empty dictionary."
   ]
  },
  {
   "cell_type": "markdown",
   "id": "59763153-2fa6-4f1f-bace-ce9d6a1a7474",
   "metadata": {},
   "source": [
    "## 5.5. Dictionaries"
   ]
  },
  {
   "cell_type": "markdown",
   "id": "13fb1155-4626-4861-b4b1-69e84ff87611",
   "metadata": {},
   "source": [
    "Unlike sequences, which are indexed by a range of numbers, dictionaries are indexed by keys, which can be any immutable type; strings and numbers always can be keys. Tuples can be used as keys if they contains only imutable types."
   ]
  },
  {
   "cell_type": "markdown",
   "id": "2e802725-2248-453a-89db-0e3b7e14fe14",
   "metadata": {},
   "source": [
    "## 5.6. Looping Techniques"
   ]
  },
  {
   "cell_type": "code",
   "execution_count": null,
   "id": "d2d30ecb-809a-4bc4-9d4f-4057f4031932",
   "metadata": {},
   "outputs": [],
   "source": []
  }
 ],
 "metadata": {
  "kernelspec": {
   "display_name": "Python 3 (ipykernel)",
   "language": "python",
   "name": "python3"
  },
  "language_info": {
   "codemirror_mode": {
    "name": "ipython",
    "version": 3
   },
   "file_extension": ".py",
   "mimetype": "text/x-python",
   "name": "python",
   "nbconvert_exporter": "python",
   "pygments_lexer": "ipython3",
   "version": "3.12.3"
  }
 },
 "nbformat": 4,
 "nbformat_minor": 5
}
